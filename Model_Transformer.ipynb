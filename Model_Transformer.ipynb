{
  "nbformat": 4,
  "nbformat_minor": 0,
  "metadata": {
    "colab": {
      "provenance": [],
      "authorship_tag": "ABX9TyMv7MHxgtnbe42O2Sxrv7py",
      "include_colab_link": true
    },
    "kernelspec": {
      "name": "python3",
      "display_name": "Python 3"
    },
    "language_info": {
      "name": "python"
    }
  },
  "cells": [
    {
      "cell_type": "markdown",
      "metadata": {
        "id": "view-in-github",
        "colab_type": "text"
      },
      "source": [
        "<a href=\"https://colab.research.google.com/github/algo21-221040114/PytorchTest/blob/main/Model_Transformer.ipynb\" target=\"_parent\"><img src=\"https://colab.research.google.com/assets/colab-badge.svg\" alt=\"Open In Colab\"/></a>"
      ]
    },
    {
      "cell_type": "code",
      "metadata": {
        "id": "VHkJzz-O4L1b"
      },
      "source": [
        "import math\n",
        "import random\n",
        "\n",
        "import torch\n",
        "import torch.nn as nn"
      ],
      "execution_count": 1,
      "outputs": []
    },
    {
      "cell_type": "code",
      "source": [
        "max_length=16"
      ],
      "metadata": {
        "id": "6VzNHH4bUazI"
      },
      "execution_count": null,
      "outputs": []
    },
    {
      "cell_type": "code",
      "source": [
        "class PositionalEncoding(nn.Module):\n",
        "    \"Implement the PE function.\"\n",
        "\n",
        "    def __init__(self, d_model, dropout, max_len=5000):\n",
        "        super(PositionalEncoding, self).__init__()\n",
        "        self.dropout = nn.Dropout(p=dropout)\n",
        "\n",
        "        # 初始化Shape为(max_len, d_model)的PE (positional encoding)\n",
        "        pe = torch.zeros(max_len, d_model)\n",
        "        # 初始化一个tensor [[0, 1, 2, 3, ...]]\n",
        "        position = torch.arange(0, max_len).unsqueeze(1)\n",
        "        # 这里就是sin和cos括号中的内容，通过e和ln进行了变换\n",
        "        div_term = torch.exp(\n",
        "            torch.arange(0, d_model, 2) * -(math.log(10000.0) / d_model)\n",
        "        )\n",
        "        # 计算PE(pos, 2i)\n",
        "        pe[:, 0::2] = torch.sin(position * div_term)\n",
        "        # 计算PE(pos, 2i+1)\n",
        "        pe[:, 1::2] = torch.cos(position * div_term)\n",
        "        # 为了方便计算，在最外面在unsqueeze出一个batch\n",
        "        pe = pe.unsqueeze(0)\n",
        "        # 如果一个参数不参与梯度下降，但又希望保存model的时候将其保存下来\n",
        "        # 这个时候就可以用register_buffer\n",
        "        self.register_buffer(\"pe\", pe)\n",
        "\n",
        "    def forward(self, x):\n",
        "        \"\"\"\n",
        "        x 为embedding后的inputs，例如(1,7, 128)，batch size为1,7个单词，单词维度为128\n",
        "        \"\"\"\n",
        "        # 将x和positional encoding相加。\n",
        "        x = x + self.pe[:, : x.size(1)].requires_grad_(False)\n",
        "        return self.dropout(x)\n"
      ],
      "metadata": {
        "id": "cGgxZ1WXXatr"
      },
      "execution_count": null,
      "outputs": []
    },
    {
      "cell_type": "code",
      "source": [],
      "metadata": {
        "id": "Xsnh1QYzXawm"
      },
      "execution_count": null,
      "outputs": []
    },
    {
      "cell_type": "code",
      "source": [],
      "metadata": {
        "id": "QlRtx1eBXaz1"
      },
      "execution_count": null,
      "outputs": []
    },
    {
      "cell_type": "code",
      "source": [],
      "metadata": {
        "id": "6hM7Rgt_Xa3G"
      },
      "execution_count": null,
      "outputs": []
    },
    {
      "cell_type": "code",
      "source": [],
      "metadata": {
        "id": "0sIfo-qZXa6K"
      },
      "execution_count": null,
      "outputs": []
    },
    {
      "cell_type": "code",
      "source": [],
      "metadata": {
        "id": "OAinv9XfXa9a"
      },
      "execution_count": null,
      "outputs": []
    }
  ]
}