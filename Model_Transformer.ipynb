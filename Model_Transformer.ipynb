{
  "nbformat": 4,
  "nbformat_minor": 0,
  "metadata": {
    "colab": {
      "provenance": [],
      "authorship_tag": "ABX9TyOTWAeasaQeQjDU3jY1adOI",
      "include_colab_link": true
    },
    "kernelspec": {
      "name": "python3",
      "display_name": "Python 3"
    },
    "language_info": {
      "name": "python"
    }
  },
  "cells": [
    {
      "cell_type": "markdown",
      "metadata": {
        "id": "view-in-github",
        "colab_type": "text"
      },
      "source": [
        "<a href=\"https://colab.research.google.com/github/algo21-221040114/PytorchTest/blob/main/Model_Transformer.ipynb\" target=\"_parent\"><img src=\"https://colab.research.google.com/assets/colab-badge.svg\" alt=\"Open In Colab\"/></a>"
      ]
    },
    {
      "cell_type": "markdown",
      "source": [
        "reference: https://blog.csdn.net/zhaohongfei_358/article/details/126019181\n"
      ],
      "metadata": {
        "id": "uMFJ7uNDSDUE"
      }
    },
    {
      "cell_type": "code",
      "metadata": {
        "id": "VHkJzz-O4L1b"
      },
      "source": [
        "import math\n",
        "import random\n",
        "\n",
        "import torch\n",
        "import torch.nn as nn"
      ],
      "execution_count": 1,
      "outputs": []
    },
    {
      "cell_type": "code",
      "source": [
        "max_length=16"
      ],
      "metadata": {
        "id": "6VzNHH4bUazI"
      },
      "execution_count": 2,
      "outputs": []
    },
    {
      "cell_type": "code",
      "source": [
        "class PositionalEncoding(nn.Module):\n",
        "    \"Implement the PE function.\"\n",
        "\n",
        "    def __init__(self, d_model, dropout, max_len=5000):\n",
        "        super(PositionalEncoding, self).__init__()\n",
        "        self.dropout = nn.Dropout(p=dropout)\n",
        "\n",
        "        # 初始化Shape为(max_len, d_model)的PE (positional encoding)\n",
        "        pe = torch.zeros(max_len, d_model)\n",
        "        # 初始化一个tensor [[0, 1, 2, 3, ...]]\n",
        "        position = torch.arange(0, max_len).unsqueeze(1)\n",
        "        # 这里就是sin和cos括号中的内容，通过e和ln进行了变换\n",
        "        div_term = torch.exp(\n",
        "            torch.arange(0, d_model, 2) * -(math.log(10000.0) / d_model)\n",
        "        )\n",
        "        # 计算PE(pos, 2i)\n",
        "        pe[:, 0::2] = torch.sin(position * div_term)\n",
        "        # 计算PE(pos, 2i+1)\n",
        "        pe[:, 1::2] = torch.cos(position * div_term)\n",
        "        # 为了方便计算，在最外面在unsqueeze出一个batch\n",
        "        pe = pe.unsqueeze(0)\n",
        "        # 如果一个参数不参与梯度下降，但又希望保存model的时候将其保存下来\n",
        "        # 这个时候就可以用register_buffer\n",
        "        self.register_buffer(\"pe\", pe)\n",
        "\n",
        "    def forward(self, x):\n",
        "        \"\"\"\n",
        "        x 为embedding后的inputs，例如(1,7, 128)，batch size为1,7个单词，单词维度为128\n",
        "        \"\"\"\n",
        "        # 将x和positional encoding相加。\n",
        "        x = x + self.pe[:, : x.size(1)].requires_grad_(False)\n",
        "        return self.dropout(x)\n"
      ],
      "metadata": {
        "id": "cGgxZ1WXXatr"
      },
      "execution_count": 3,
      "outputs": []
    },
    {
      "cell_type": "code",
      "source": [
        "class CopyTaskModel(nn.Module):\n",
        "\n",
        "    def __init__(self, d_model=128):\n",
        "        super(CopyTaskModel, self).__init__()\n",
        "\n",
        "        # 定义词向量，词典数为10。不预测两位数或小数。\n",
        "        self.embedding = nn.Embedding(num_embeddings=10, embedding_dim=128)\n",
        "        # 定义Transformer。超参是我拍脑袋想的\n",
        "        self.transformer = nn.Transformer(d_model=128, \n",
        "                                          num_encoder_layers=2, \n",
        "                                          num_decoder_layers=2, \n",
        "                                          dim_feedforward=512, \n",
        "                                          batch_first=True)\n",
        "\n",
        "        # 定义位置编码器\n",
        "        self.positional_encoding = PositionalEncoding(d_model, dropout=0)\n",
        "\n",
        "        # 定义最后的线性层，这里并没有用Softmax，因为没必要。\n",
        "        # 因为后面的CrossEntropyLoss中自带了\n",
        "        self.predictor = nn.Linear(128, 10)\n",
        "\n",
        "    def forward(self, src, tgt):\n",
        "        # 生成mask\n",
        "        tgt_mask = nn.Transformer.generate_square_subsequent_mask(tgt.size()[-1])\n",
        "        src_key_padding_mask = CopyTaskModel.get_key_padding_mask(src)\n",
        "        tgt_key_padding_mask = CopyTaskModel.get_key_padding_mask(tgt)\n",
        "\n",
        "        # 对src和tgt进行编码\n",
        "        src = self.embedding(src)\n",
        "        tgt = self.embedding(tgt)\n",
        "        # 给src和tgt的token增加位置信息\n",
        "        src = self.positional_encoding(src)\n",
        "        tgt = self.positional_encoding(tgt)\n",
        "\n",
        "        # 将准备好的数据送给transformer\n",
        "        out = self.transformer(src, tgt,\n",
        "                               tgt_mask=tgt_mask,\n",
        "                               src_key_padding_mask=src_key_padding_mask,\n",
        "                               tgt_key_padding_mask=tgt_key_padding_mask)\n",
        "\n",
        "        \"\"\"\n",
        "        这里直接返回transformer的结果。因为训练和推理时的行为不一样，\n",
        "        所以在该模型外再进行线性层的预测。\n",
        "        \"\"\"\n",
        "        return out\n",
        "\n",
        "    @staticmethod\n",
        "    def get_key_padding_mask(tokens):\n",
        "        \"\"\"\n",
        "        用于key_padding_mask\n",
        "        \"\"\"\n",
        "        key_padding_mask = torch.zeros(tokens.size())\n",
        "        key_padding_mask[tokens == 2] = -torch.inf\n",
        "        return key_padding_mask\n"
      ],
      "metadata": {
        "id": "Xsnh1QYzXawm"
      },
      "execution_count": 4,
      "outputs": []
    },
    {
      "cell_type": "code",
      "source": [
        "model = CopyTaskModel()"
      ],
      "metadata": {
        "id": "QlRtx1eBXaz1"
      },
      "execution_count": 5,
      "outputs": []
    },
    {
      "cell_type": "code",
      "source": [
        "src = torch.LongTensor([[0, 3, 4, 5, 6, 1, 2, 2]])\n",
        "tgt = torch.LongTensor([[3, 4, 5, 6, 1, 2, 2]])\n",
        "out = model(src, tgt)\n",
        "print(out.size())\n",
        "# print(out)\n"
      ],
      "metadata": {
        "colab": {
          "base_uri": "https://localhost:8080/"
        },
        "id": "6hM7Rgt_Xa3G",
        "outputId": "6a34ba77-5ce6-415d-9a20-18444ce78cc4"
      },
      "execution_count": 17,
      "outputs": [
        {
          "output_type": "stream",
          "name": "stdout",
          "text": [
            "torch.Size([1, 7, 128])\n"
          ]
        }
      ]
    },
    {
      "cell_type": "code",
      "source": [
        "criteria = nn.CrossEntropyLoss()\n",
        "optimizer = torch.optim.Adam(model.parameters(), lr=3e-4)"
      ],
      "metadata": {
        "id": "0sIfo-qZXa6K"
      },
      "execution_count": 8,
      "outputs": []
    },
    {
      "cell_type": "code",
      "source": [
        "def generate_random_batch(batch_size, max_length=16):\n",
        "    src = []\n",
        "    for i in range(batch_size):\n",
        "        # 随机生成句子长度\n",
        "        random_len = random.randint(1, max_length - 2)\n",
        "        # 随机生成句子词汇，并在开头和结尾增加<bos>和<eos>\n",
        "        random_nums = [0] + [random.randint(3, 9) for _ in range(random_len)] + [1]\n",
        "        # 如果句子长度不足max_length，进行填充\n",
        "        random_nums = random_nums + [2] * (max_length - random_len - 2)\n",
        "        src.append(random_nums)\n",
        "    src = torch.LongTensor(src)\n",
        "    # tgt不要最后一个token\n",
        "    tgt = src[:, :-1]\n",
        "    # tgt_y不要第一个的token\n",
        "    tgt_y = src[:, 1:]\n",
        "    # 计算tgt_y，即要预测的有效token的数量\n",
        "    n_tokens = (tgt_y != 2).sum()\n",
        "\n",
        "    # 这里的n_tokens指的是我们要预测的tgt_y中有多少有效的token，后面计算loss要用\n",
        "    return src, tgt, tgt_y, n_tokens\n"
      ],
      "metadata": {
        "id": "OAinv9XfXa9a"
      },
      "execution_count": 15,
      "outputs": []
    },
    {
      "cell_type": "code",
      "source": [
        "generate_random_batch(batch_size=2, max_length=6)"
      ],
      "metadata": {
        "colab": {
          "base_uri": "https://localhost:8080/"
        },
        "id": "aUU3nT_EeMWH",
        "outputId": "ee74656a-07dc-4f55-c5fd-aed0965eb766"
      },
      "execution_count": 16,
      "outputs": [
        {
          "output_type": "execute_result",
          "data": {
            "text/plain": [
              "(tensor([[0, 4, 6, 1, 2, 2],\n",
              "         [0, 9, 1, 2, 2, 2]]), tensor([[0, 4, 6, 1, 2],\n",
              "         [0, 9, 1, 2, 2]]), tensor([[4, 6, 1, 2, 2],\n",
              "         [9, 1, 2, 2, 2]]), tensor(5))"
            ]
          },
          "metadata": {},
          "execution_count": 16
        }
      ]
    },
    {
      "cell_type": "code",
      "source": [
        "total_loss = 0\n",
        "\n",
        "for step in range(1000):\n",
        "    # 生成数据\n",
        "    src, tgt, tgt_y, n_tokens = generate_random_batch(batch_size=2, max_length=max_length)\n",
        "\n",
        "    # 清空梯度\n",
        "    optimizer.zero_grad()\n",
        "    # 进行transformer的计算\n",
        "    out = model(src, tgt)\n",
        "    # 将结果送给最后的线性层进行预测\n",
        "    out = model.predictor(out)\n",
        "    \"\"\"\n",
        "    计算损失。由于训练时我们的是对所有的输出都进行预测，所以需要对out进行reshape一下。\n",
        "            我们的out的Shape为(batch_size, 词数, 词典大小)，view之后变为：\n",
        "            (batch_size*词数, 词典大小)。\n",
        "            而在这些预测结果中，我们只需要对非<pad>部分进行，所以需要进行正则化。也就是\n",
        "            除以n_tokens。\n",
        "    \"\"\"\n",
        "    loss = criteria(out.contiguous().view(-1, out.size(-1)), tgt_y.contiguous().view(-1)) / n_tokens\n",
        "    # 计算梯度\n",
        "    loss.backward()\n",
        "    # 更新参数\n",
        "    optimizer.step()\n",
        "\n",
        "    total_loss += loss\n",
        "\n",
        "    # 每40次打印一下loss\n",
        "    if step != 0 and step % 40 == 0:\n",
        "        print(\"Step {}, total_loss: {}\".format(step, total_loss))\n",
        "        total_loss = 0\n"
      ],
      "metadata": {
        "id": "S2dTpd24eMUf"
      },
      "execution_count": null,
      "outputs": []
    },
    {
      "cell_type": "code",
      "source": [
        "# 评估模式。而非训练模式。\n",
        "# 在评估模式下，batchNorm层，dropout层等用于优化训练而添加的网络层会被关闭，从而使得评估时不会发生偏移。\n",
        "model = model.eval()\n",
        "# 随便定义一个src\n",
        "src = torch.LongTensor([[0, 4, 3, 4, 6, 8, 9, 9, 8, 1, 2, 2]])\n",
        "# tgt从<bos>开始，看看能不能重新输出src中的值\n",
        "tgt = torch.LongTensor([[0]])\n"
      ],
      "metadata": {
        "id": "Hm6LwLfaeMQ4"
      },
      "execution_count": 22,
      "outputs": []
    },
    {
      "cell_type": "code",
      "source": [
        "# 一个一个词预测，直到预测为<eos>，或者达到句子最大长度\n",
        "for i in range(max_length):\n",
        "    # 进行transformer计算\n",
        "    out = model(src, tgt)\n",
        "    # 预测结果，因为只需要看最后一个词，所以取`out[:, -1]`\n",
        "    predict = model.predictor(out[:, -1])\n",
        "    # 找出最大值的index\n",
        "    y = torch.argmax(predict, dim=1)\n",
        "    # 和之前的预测结果拼接到一起\n",
        "    tgt = torch.concat([tgt, y.unsqueeze(0)], dim=1)\n",
        "\n",
        "    # 如果为<eos>，说明预测结束，跳出循环\n",
        "    if y == 1:\n",
        "        break\n",
        "print(tgt)\n"
      ],
      "metadata": {
        "id": "SznZi0ZBeMN6"
      },
      "execution_count": null,
      "outputs": []
    }
  ]
}