{
  "nbformat": 4,
  "nbformat_minor": 0,
  "metadata": {
    "colab": {
      "provenance": [],
      "authorship_tag": "ABX9TyNRPLxDieX2TIyeGXsAqAXJ",
      "include_colab_link": true
    },
    "kernelspec": {
      "name": "python3",
      "display_name": "Python 3"
    },
    "language_info": {
      "name": "python"
    }
  },
  "cells": [
    {
      "cell_type": "markdown",
      "metadata": {
        "id": "view-in-github",
        "colab_type": "text"
      },
      "source": [
        "<a href=\"https://colab.research.google.com/github/algo21-221040114/PytorchTest/blob/main/PytorchLightning.ipynb\" target=\"_parent\"><img src=\"https://colab.research.google.com/assets/colab-badge.svg\" alt=\"Open In Colab\"/></a>"
      ]
    },
    {
      "cell_type": "code",
      "execution_count": null,
      "metadata": {
        "id": "Va2w1TfQGSLM"
      },
      "outputs": [],
      "source": [
        "pip install pytorch_lightning"
      ]
    },
    {
      "cell_type": "code",
      "source": [
        "pip install torchmetrics"
      ],
      "metadata": {
        "id": "gZ0Oke5SYVGQ"
      },
      "execution_count": null,
      "outputs": []
    },
    {
      "cell_type": "code",
      "source": [
        "import torch\n",
        "import torch.nn as nn\n",
        "from torch.nn import functional as F\n",
        "from torch.utils.data import DataLoader, random_split\n",
        "\n",
        "from torchmetrics.functional import accuracy\n",
        "\n",
        "import pytorch_lightning\n",
        "from pytorch_lightning import LightningModule, Trainer"
      ],
      "metadata": {
        "id": "6KFEpJfIWVwL"
      },
      "execution_count": 12,
      "outputs": []
    },
    {
      "cell_type": "code",
      "source": [
        "# Pytorch Lightning\n",
        "# reference: https://zhuanlan.zhihu.com/p/410394574\n",
        "class PLModel(LightningModule):\n",
        "  \n",
        "  def __init__(self, channels, height, width, hidden_size, batch_size):\n",
        "    super().__init__()\n",
        "\n",
        "    self.channels = channels\n",
        "    self.height = height\n",
        "    self.width = width\n",
        "    self.hidden_size = hidden_size\n",
        "    self.batch_size = batch_size\n",
        "\n",
        "    self.mdoel = nn.Sequential(\n",
        "        nn.Linear(self.channels * self.height * self.width, self.hidden_size*2),\n",
        "        nn.ReLU(),\n",
        "        nn.Dropout(0.1),\n",
        "        nn.Linear(self.hidden_size*2, self.hidden_size),\n",
        "        nn.ReLU(),\n",
        "        nn.Dropout(0.1),\n",
        "        nn.Linear(self.hidden_size, 1)\n",
        "    )\n",
        "\n",
        "  def forward(self, x):\n",
        "    x = self.model(x)\n",
        "    return x\n",
        "\n",
        "  def configure_optimizers(self):\n",
        "    optimizer = torch.optim.Adam(self.parameters(), lr=1e-2)\n",
        "    return optimizer\n",
        "\n",
        "  def training_step(self, batch, batch_idx):\n",
        "    x, y = batch, batch_idx\n",
        "    pred_y = self.model(x)\n",
        "    loss = nn.MSELoss(pred_y, y)\n",
        "    return loss\n",
        "\n",
        "  def validation_step(self, batch, batch_idx):\n",
        "    x, y = batch, batch_idx\n",
        "    pred_y = self.model(x)\n",
        "    loss = nn.MSELoss(pred_y, y)\n",
        "\n",
        "    self.log('val_loss', loss, prog_bar=True)\n",
        "    return loss\n",
        "    \n",
        "  def test_step(self, batch, batch_idx):\n",
        "      return self.validation_step(batch, batch_idx)\n",
        "\n",
        "  def train_dataloader(self):\n",
        "      return DataLoader(self.mnist_train, batch_size=BATCH_SIZE)\n",
        "\n",
        "  def val_dataloader(self):\n",
        "      return DataLoader(self.mnist_val, batch_size=BATCH_SIZE)\n",
        "\n",
        "  def test_dataloader(self):\n",
        "      return DataLoader(self.mnist_test, batch_size=BATCH_SIZE)"
      ],
      "metadata": {
        "id": "3TS_fzv2XmnS"
      },
      "execution_count": 33,
      "outputs": []
    },
    {
      "cell_type": "code",
      "source": [
        "model = PLModel(channels=3, height=16, width=16, hidden_size=16, batch_size=8)"
      ],
      "metadata": {
        "id": "UHlsHAhinA9-"
      },
      "execution_count": 34,
      "outputs": []
    },
    {
      "cell_type": "code",
      "source": [
        "AVAIL_GPUS = min(1, torch.cuda.device_count())"
      ],
      "metadata": {
        "id": "zXHRs7sjqIND"
      },
      "execution_count": null,
      "outputs": []
    },
    {
      "cell_type": "code",
      "source": [
        "trainer = Trainer(\n",
        "    accelerator=\"auto\", # 使用accelerator来选择将要训练的硬件，可设置cpu、gpu、tpu以及自动选择\n",
        "    max_epochs=50)"
      ],
      "metadata": {
        "colab": {
          "base_uri": "https://localhost:8080/"
        },
        "id": "L7t6jQejnkw-",
        "outputId": "c3237e3a-fecb-4538-8a18-04c2944f4d2b"
      },
      "execution_count": 35,
      "outputs": [
        {
          "output_type": "stream",
          "name": "stderr",
          "text": [
            "INFO:pytorch_lightning.utilities.rank_zero:GPU available: False, used: False\n",
            "INFO:pytorch_lightning.utilities.rank_zero:TPU available: False, using: 0 TPU cores\n",
            "INFO:pytorch_lightning.utilities.rank_zero:IPU available: False, using: 0 IPUs\n",
            "INFO:pytorch_lightning.utilities.rank_zero:HPU available: False, using: 0 HPUs\n"
          ]
        }
      ]
    },
    {
      "cell_type": "code",
      "source": [
        "train_data = torch.rand((16, 3, 16, 16))\n",
        "train_label = torch.rand((16, 1))"
      ],
      "metadata": {
        "id": "qujH7_dJqiIi"
      },
      "execution_count": 30,
      "outputs": []
    },
    {
      "cell_type": "code",
      "source": [
        "trainer.fit(model)"
      ],
      "metadata": {
        "id": "BwhWvf8Do5rm"
      },
      "execution_count": null,
      "outputs": []
    }
  ]
}