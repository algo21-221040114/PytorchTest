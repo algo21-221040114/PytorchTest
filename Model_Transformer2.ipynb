{
  "nbformat": 4,
  "nbformat_minor": 0,
  "metadata": {
    "colab": {
      "provenance": [],
      "authorship_tag": "ABX9TyMQ4dZAuPlBInh0bcGJd9Fg",
      "include_colab_link": true
    },
    "kernelspec": {
      "name": "python3",
      "display_name": "Python 3"
    },
    "language_info": {
      "name": "python"
    }
  },
  "cells": [
    {
      "cell_type": "markdown",
      "metadata": {
        "id": "view-in-github",
        "colab_type": "text"
      },
      "source": [
        "<a href=\"https://colab.research.google.com/github/algo21-221040114/PytorchTest/blob/main/Model_Transformer2.ipynb\" target=\"_parent\"><img src=\"https://colab.research.google.com/assets/colab-badge.svg\" alt=\"Open In Colab\"/></a>"
      ]
    },
    {
      "cell_type": "code",
      "source": [
        "pip install sweetviz"
      ],
      "metadata": {
        "id": "ON4iRroZkb76"
      },
      "execution_count": null,
      "outputs": []
    },
    {
      "cell_type": "code",
      "source": [
        "pip install https://github.com/pandas-profiling/pandas-profiling/archive/master.zip"
      ],
      "metadata": {
        "id": "pKIsA_fYkUow"
      },
      "execution_count": null,
      "outputs": []
    },
    {
      "cell_type": "code",
      "source": [
        "import sweetviz as sv\n",
        "from pandas_profiling import ProfileReport"
      ],
      "metadata": {
        "id": "27GKQmVxqLUd"
      },
      "execution_count": null,
      "outputs": []
    },
    {
      "cell_type": "code",
      "execution_count": 1,
      "metadata": {
        "id": "nWrNchFCUWGG"
      },
      "outputs": [],
      "source": [
        "import pandas as pd\n",
        "import numpy as np\n",
        "\n",
        "import math\n",
        "import torch\n",
        "import torch.nn as nn\n",
        "\n",
        "import seaborn as sns\n",
        "import matplotlib.pyplot as plt"
      ]
    },
    {
      "cell_type": "code",
      "source": [
        "df = pd.read_csv('/content/sample_data/000001.SS.csv')\n",
        "df['Date'] = pd.to_datetime(df['Date'])\n",
        "df.set_index('Date', inplace=True)\n",
        "df.head()"
      ],
      "metadata": {
        "colab": {
          "base_uri": "https://localhost:8080/",
          "height": 237
        },
        "id": "Qajda6zIe9jC",
        "outputId": "6298b491-141c-429b-bcd5-2b9dae79df16"
      },
      "execution_count": 2,
      "outputs": [
        {
          "output_type": "execute_result",
          "data": {
            "text/plain": [
              "                   Open         High          Low        Close    Adj Close  \\\n",
              "Date                                                                          \n",
              "2022-03-16  3107.669922  3177.790039  3023.300049  3170.709961  3170.709961   \n",
              "2022-03-17  3215.010010  3260.169922  3202.929932  3215.040039  3215.040039   \n",
              "2022-03-18  3207.149902  3260.780029  3197.360107  3251.070068  3251.070068   \n",
              "2022-03-21  3255.620117  3267.500000  3223.389893  3253.689941  3253.689941   \n",
              "2022-03-22  3249.540039  3279.110107  3239.530029  3259.860107  3259.860107   \n",
              "\n",
              "            Volume  \n",
              "Date                \n",
              "2022-03-16  444700  \n",
              "2022-03-17  420800  \n",
              "2022-03-18  373000  \n",
              "2022-03-21  354200  \n",
              "2022-03-22  361200  "
            ],
            "text/html": [
              "\n",
              "  <div id=\"df-0a0de5ff-1e25-44a2-b2c0-a39dd4c20984\">\n",
              "    <div class=\"colab-df-container\">\n",
              "      <div>\n",
              "<style scoped>\n",
              "    .dataframe tbody tr th:only-of-type {\n",
              "        vertical-align: middle;\n",
              "    }\n",
              "\n",
              "    .dataframe tbody tr th {\n",
              "        vertical-align: top;\n",
              "    }\n",
              "\n",
              "    .dataframe thead th {\n",
              "        text-align: right;\n",
              "    }\n",
              "</style>\n",
              "<table border=\"1\" class=\"dataframe\">\n",
              "  <thead>\n",
              "    <tr style=\"text-align: right;\">\n",
              "      <th></th>\n",
              "      <th>Open</th>\n",
              "      <th>High</th>\n",
              "      <th>Low</th>\n",
              "      <th>Close</th>\n",
              "      <th>Adj Close</th>\n",
              "      <th>Volume</th>\n",
              "    </tr>\n",
              "    <tr>\n",
              "      <th>Date</th>\n",
              "      <th></th>\n",
              "      <th></th>\n",
              "      <th></th>\n",
              "      <th></th>\n",
              "      <th></th>\n",
              "      <th></th>\n",
              "    </tr>\n",
              "  </thead>\n",
              "  <tbody>\n",
              "    <tr>\n",
              "      <th>2022-03-16</th>\n",
              "      <td>3107.669922</td>\n",
              "      <td>3177.790039</td>\n",
              "      <td>3023.300049</td>\n",
              "      <td>3170.709961</td>\n",
              "      <td>3170.709961</td>\n",
              "      <td>444700</td>\n",
              "    </tr>\n",
              "    <tr>\n",
              "      <th>2022-03-17</th>\n",
              "      <td>3215.010010</td>\n",
              "      <td>3260.169922</td>\n",
              "      <td>3202.929932</td>\n",
              "      <td>3215.040039</td>\n",
              "      <td>3215.040039</td>\n",
              "      <td>420800</td>\n",
              "    </tr>\n",
              "    <tr>\n",
              "      <th>2022-03-18</th>\n",
              "      <td>3207.149902</td>\n",
              "      <td>3260.780029</td>\n",
              "      <td>3197.360107</td>\n",
              "      <td>3251.070068</td>\n",
              "      <td>3251.070068</td>\n",
              "      <td>373000</td>\n",
              "    </tr>\n",
              "    <tr>\n",
              "      <th>2022-03-21</th>\n",
              "      <td>3255.620117</td>\n",
              "      <td>3267.500000</td>\n",
              "      <td>3223.389893</td>\n",
              "      <td>3253.689941</td>\n",
              "      <td>3253.689941</td>\n",
              "      <td>354200</td>\n",
              "    </tr>\n",
              "    <tr>\n",
              "      <th>2022-03-22</th>\n",
              "      <td>3249.540039</td>\n",
              "      <td>3279.110107</td>\n",
              "      <td>3239.530029</td>\n",
              "      <td>3259.860107</td>\n",
              "      <td>3259.860107</td>\n",
              "      <td>361200</td>\n",
              "    </tr>\n",
              "  </tbody>\n",
              "</table>\n",
              "</div>\n",
              "      <button class=\"colab-df-convert\" onclick=\"convertToInteractive('df-0a0de5ff-1e25-44a2-b2c0-a39dd4c20984')\"\n",
              "              title=\"Convert this dataframe to an interactive table.\"\n",
              "              style=\"display:none;\">\n",
              "        \n",
              "  <svg xmlns=\"http://www.w3.org/2000/svg\" height=\"24px\"viewBox=\"0 0 24 24\"\n",
              "       width=\"24px\">\n",
              "    <path d=\"M0 0h24v24H0V0z\" fill=\"none\"/>\n",
              "    <path d=\"M18.56 5.44l.94 2.06.94-2.06 2.06-.94-2.06-.94-.94-2.06-.94 2.06-2.06.94zm-11 1L8.5 8.5l.94-2.06 2.06-.94-2.06-.94L8.5 2.5l-.94 2.06-2.06.94zm10 10l.94 2.06.94-2.06 2.06-.94-2.06-.94-.94-2.06-.94 2.06-2.06.94z\"/><path d=\"M17.41 7.96l-1.37-1.37c-.4-.4-.92-.59-1.43-.59-.52 0-1.04.2-1.43.59L10.3 9.45l-7.72 7.72c-.78.78-.78 2.05 0 2.83L4 21.41c.39.39.9.59 1.41.59.51 0 1.02-.2 1.41-.59l7.78-7.78 2.81-2.81c.8-.78.8-2.07 0-2.86zM5.41 20L4 18.59l7.72-7.72 1.47 1.35L5.41 20z\"/>\n",
              "  </svg>\n",
              "      </button>\n",
              "      \n",
              "  <style>\n",
              "    .colab-df-container {\n",
              "      display:flex;\n",
              "      flex-wrap:wrap;\n",
              "      gap: 12px;\n",
              "    }\n",
              "\n",
              "    .colab-df-convert {\n",
              "      background-color: #E8F0FE;\n",
              "      border: none;\n",
              "      border-radius: 50%;\n",
              "      cursor: pointer;\n",
              "      display: none;\n",
              "      fill: #1967D2;\n",
              "      height: 32px;\n",
              "      padding: 0 0 0 0;\n",
              "      width: 32px;\n",
              "    }\n",
              "\n",
              "    .colab-df-convert:hover {\n",
              "      background-color: #E2EBFA;\n",
              "      box-shadow: 0px 1px 2px rgba(60, 64, 67, 0.3), 0px 1px 3px 1px rgba(60, 64, 67, 0.15);\n",
              "      fill: #174EA6;\n",
              "    }\n",
              "\n",
              "    [theme=dark] .colab-df-convert {\n",
              "      background-color: #3B4455;\n",
              "      fill: #D2E3FC;\n",
              "    }\n",
              "\n",
              "    [theme=dark] .colab-df-convert:hover {\n",
              "      background-color: #434B5C;\n",
              "      box-shadow: 0px 1px 3px 1px rgba(0, 0, 0, 0.15);\n",
              "      filter: drop-shadow(0px 1px 2px rgba(0, 0, 0, 0.3));\n",
              "      fill: #FFFFFF;\n",
              "    }\n",
              "  </style>\n",
              "\n",
              "      <script>\n",
              "        const buttonEl =\n",
              "          document.querySelector('#df-0a0de5ff-1e25-44a2-b2c0-a39dd4c20984 button.colab-df-convert');\n",
              "        buttonEl.style.display =\n",
              "          google.colab.kernel.accessAllowed ? 'block' : 'none';\n",
              "\n",
              "        async function convertToInteractive(key) {\n",
              "          const element = document.querySelector('#df-0a0de5ff-1e25-44a2-b2c0-a39dd4c20984');\n",
              "          const dataTable =\n",
              "            await google.colab.kernel.invokeFunction('convertToInteractive',\n",
              "                                                     [key], {});\n",
              "          if (!dataTable) return;\n",
              "\n",
              "          const docLinkHtml = 'Like what you see? Visit the ' +\n",
              "            '<a target=\"_blank\" href=https://colab.research.google.com/notebooks/data_table.ipynb>data table notebook</a>'\n",
              "            + ' to learn more about interactive tables.';\n",
              "          element.innerHTML = '';\n",
              "          dataTable['output_type'] = 'display_data';\n",
              "          await google.colab.output.renderOutput(dataTable, element);\n",
              "          const docLink = document.createElement('div');\n",
              "          docLink.innerHTML = docLinkHtml;\n",
              "          element.appendChild(docLink);\n",
              "        }\n",
              "      </script>\n",
              "    </div>\n",
              "  </div>\n",
              "  "
            ]
          },
          "metadata": {},
          "execution_count": 2
        }
      ]
    },
    {
      "cell_type": "code",
      "source": [
        "# Plot\n",
        "fig, ax = plt.subplots()\n",
        "ax.plot(df.index, df['High'], color='y', label='high')\n",
        "ax.plot(df.index, df['Close'], color='b', label='close')\n",
        "ax.set_title('000001.SS')\n",
        "ax.legend()\n",
        "plt.show()"
      ],
      "metadata": {
        "id": "QcW6amQ6fmli"
      },
      "execution_count": null,
      "outputs": []
    },
    {
      "cell_type": "code",
      "source": [
        "# EDA \n",
        "def eda_sweetviz(df, report_name, target=None):\n",
        "    # target certain data\n",
        "    sweet_report = sv.analyze(df, target_feat=target)\n",
        "    # in notebook, download the file and open in the browser\n",
        "    sweet_report.show_html(f'{report_name}.html')\n",
        "\n",
        "def eda_sweetviz_compare(df1, df2, report_name, feature, target):\n",
        "    # compare two datasets\n",
        "    feature_config = sv.FeatureConfig(force_text=feature, force_cat=feature)\n",
        "    sweet_report = sv.compare(df1, df2, feat_cfg=feature_config, target_feat=target)\n",
        "    sweet_report.show_html(f'{report_name}_compare.html')\n",
        "\n",
        "\n",
        "eda_sweetviz(df, 'Daily Data of 000001.SS')\n",
        "\n",
        "def eda_pandas_profilling(df, report_name):\n",
        "    # directly show in notebook\n",
        "    profile = ProfileReport(df, title=report_name, explorative=True)\n",
        "    return profile\n",
        "\n",
        "eda_pandas_profilling(df, '000001.SS Report')"
      ],
      "metadata": {
        "id": "kbQ8AyNZhQ-s"
      },
      "execution_count": null,
      "outputs": []
    },
    {
      "cell_type": "code",
      "source": [
        "class PositionalEncoding(nn.Module):\n",
        "\n",
        "    def __init__(self, d_model, dropout, max_len=5000):\n",
        "        super().__init__()\n",
        "        self.dropout = nn.Dropout(p=dropout)\n",
        "\n",
        "        position = torch.arange(max_len).unsqueeze(1)\n",
        "        div_term = torch.exp(torch.arange(0, d_model, 2)*(-math.log(10000.0)/d_model))\n",
        "        pe = torch.zeros(max_len, 1, d_model)\n",
        "        pe[:, 0, 0::2] = torch.sin(position * div_term)\n",
        "        pe[:, 0, 1::2] = torch.cos(position * div_term)\n",
        "        self.register_buffer('pe', pe)\n",
        "\n",
        "    def forward(self, x):\n",
        "        \"\"\"\n",
        "        Args:\n",
        "            x: Tensor, shape [seq_len, batch_size, embedding_dim]\n",
        "        \"\"\"\n",
        "        x = x + self.pe[:x.size(0)]\n",
        "        return self.dropout(x)"
      ],
      "metadata": {
        "id": "hkrePk4DpToP"
      },
      "execution_count": null,
      "outputs": []
    },
    {
      "cell_type": "code",
      "source": [
        "# Normalization \n"
      ],
      "metadata": {
        "id": "RIU6wKnrGoib"
      },
      "execution_count": null,
      "outputs": []
    },
    {
      "cell_type": "code",
      "source": [
        "# Data Preprocess\n",
        "cl = df['Close']\n",
        "# features = np.array((df['Open'], df['High'], df['Low'], df['Close'])).T\n",
        "features = np.array((df['Close'])).T\n",
        "length = features.shape[0] # total time length\n",
        "src = []\n",
        "tgt = []\n",
        "tgt_y = []\n",
        "pre_len = 5\n",
        "\n",
        "for i in range(length-pre_len-2):\n",
        "  s = features[i: i+pre_len]\n",
        "  src.append(s)\n",
        "\n",
        "  t = features[i+pre_len+1]\n",
        "  tgt.append(t)\n",
        "\n",
        "  t_y = features[i+pre_len+1] # close price\n",
        "  tgt_y.append(t_y)\n",
        "\n",
        "train_src = src[:200]\n",
        "test_src = src[200:]\n",
        "\n",
        "train_tgt = tgt[:200]\n",
        "test_tgt = tgt[200:]\n",
        "\n",
        "train_tgt_y = tgt_y[:200]\n",
        "test_tgt_y = tgt_y[200:]\n",
        "\n",
        "print(len(train_tgt_y))"
      ],
      "metadata": {
        "id": "sPGtWNJ6h1ck"
      },
      "execution_count": null,
      "outputs": []
    },
    {
      "cell_type": "code",
      "source": [
        "def shuffle_data(feature, target, target_y):\n",
        "    \"\"\"\n",
        "    :param feature: encoder输入特征, list\n",
        "    :param target: decoder输入特征\n",
        "    :param target_y: ground truth\n",
        "    :param shuffle: 是否打乱顺序\n",
        "    :return:\n",
        "    \"\"\"\n",
        "    # 输入all_datas的每一项必须是numpy数组\n",
        "    feature = [np.array(x) for x in feature]\n",
        "    target = [np.array(x) for x in target]\n",
        "    target_y = [np.array(x) for x in target_y]\n",
        "\n",
        "    # 获取样本大小\n",
        "    data_size = len(feature)\n",
        "\n",
        "    # 随机生成打乱的索引\n",
        "    p = np.random.permutation(data_size)\n",
        "    # 重新组织数据\n",
        "    feature = torch.Tensor(np.array(feature)[p]).unsqueeze(-1)\n",
        "    target =  torch.Tensor(np.array(target)[p]).unsqueeze(1).unsqueeze(-1)\n",
        "    target_y =  torch.Tensor(np.array(target_y)[p])\n",
        "\n",
        "    return feature, target, target_y"
      ],
      "metadata": {
        "id": "2bsqxPFsHj9T"
      },
      "execution_count": 71,
      "outputs": []
    },
    {
      "cell_type": "code",
      "source": [
        "src, tgt, tgt_y = shuffle_data(train_src, train_tgt, train_tgt_y)\n",
        "print(src.size())\n",
        "print(tgt.size())\n",
        "print(tgt_y.size())"
      ],
      "metadata": {
        "colab": {
          "base_uri": "https://localhost:8080/"
        },
        "id": "TS39i33MR2O5",
        "outputId": "22500886-276b-4a86-b78f-ae7e88b70fbf"
      },
      "execution_count": 72,
      "outputs": [
        {
          "output_type": "stream",
          "name": "stdout",
          "text": [
            "torch.Size([200, 5, 1])\n",
            "torch.Size([200, 1, 1])\n",
            "torch.Size([200])\n"
          ]
        }
      ]
    },
    {
      "cell_type": "code",
      "source": [
        "# 策略：使用前十个交易日的close信息预测当日close\n",
        "class QuantModel(nn.Module):\n",
        "\n",
        "  def __init__(self, n_feature):\n",
        "      super(QuantModel, self).__init__()\n",
        "\n",
        "      self.transformer = nn.Transformer(d_model = n_feature,\n",
        "                                        nhead=1,\n",
        "                                        num_encoder_layers=12,\n",
        "                                        num_decoder_layers=12,\n",
        "                                        dim_feedforward=128,\n",
        "                                        dropout=0.1,\n",
        "                                        activation='relu',\n",
        "                                        custom_encoder=None,\n",
        "                                        custom_decoder=None,\n",
        "                                        batch_first = True)\n",
        "      self.out_linear = nn.Linear(n_feature, 1)\n",
        "\n",
        "  def forward(self, src, tgt):\n",
        "\n",
        "      tgt_mask = nn.Transformer.generate_square_subsequent_mask(tgt.size()[1])\n",
        "      \n",
        "      out = self.transformer(src, tgt, tgt_mask=tgt_mask)\n",
        "\n",
        "      return out\n",
        "\n",
        "model = QuantModel(n_feature=1)"
      ],
      "metadata": {
        "id": "tO4ppQTssN0T"
      },
      "execution_count": 73,
      "outputs": []
    },
    {
      "cell_type": "code",
      "source": [
        "criteria = nn.MSELoss()\n",
        "optimizer = torch.optim.Adam(model.parameters(), lr=5e-2)"
      ],
      "metadata": {
        "id": "vQhTHaE5W8WU"
      },
      "execution_count": 74,
      "outputs": []
    },
    {
      "cell_type": "code",
      "source": [
        "# Train model\n",
        "data_size = 200\n",
        "batch_size = 16\n",
        "total_loss = 0\n",
        "epochs = 100\n",
        "batch_count = data_size//batch_size\n",
        "\n",
        "for epoch in range(1, epochs + 1):\n",
        "\n",
        "    total_loss = 0\n",
        "    optimizer.zero_grad()\n",
        "    src, tgt, tgt_y = shuffle_data(train_src, train_tgt, train_tgt_y)\n",
        "\n",
        "    for batch in range(batch_count+1):\n",
        "      start = batch*batch_size\n",
        "      if start >= data_size:\n",
        "        break\n",
        "      else:\n",
        "        end = min((batch+1)*batch_size, data_size)\n",
        "          \n",
        "        src1 = src[start:end]\n",
        "        tgt1 = tgt[start:end]\n",
        "        tgt_y1 = tgt_y[start:end]\n",
        "        out = model(src1, tgt1)\n",
        "        out = model.out_linear(out)\n",
        "        loss = criteria(out.contiguous().view(-1, out.size(-1)), \n",
        "                        tgt_y1.contiguous().view(-1, tgt_y1.size(-1)))\n",
        "\n",
        "        loss.backward()\n",
        "        optimizer.step()\n",
        "        total_loss += loss\n",
        "\n",
        "    # 每10次打印一下loss\n",
        "    if epoch != 0 and epoch % 5 == 0:\n",
        "        print(\"Epoch {}, total_loss: {}\".format(epoch, total_loss))\n",
        "        total_loss = 0"
      ],
      "metadata": {
        "id": "JmxP2flvbcbJ",
        "colab": {
          "base_uri": "https://localhost:8080/"
        },
        "outputId": "4c87c416-0c32-423c-fbf3-e142445b031b"
      },
      "execution_count": 75,
      "outputs": [
        {
          "output_type": "stream",
          "name": "stderr",
          "text": [
            "/usr/local/lib/python3.9/dist-packages/torch/nn/modules/loss.py:536: UserWarning: Using a target size (torch.Size([1, 16])) that is different to the input size (torch.Size([16, 1])). This will likely lead to incorrect results due to broadcasting. Please ensure they have the same size.\n",
            "  return F.mse_loss(input, target, reduction=self.reduction)\n",
            "/usr/local/lib/python3.9/dist-packages/torch/nn/modules/loss.py:536: UserWarning: Using a target size (torch.Size([1, 8])) that is different to the input size (torch.Size([8, 1])). This will likely lead to incorrect results due to broadcasting. Please ensure they have the same size.\n",
            "  return F.mse_loss(input, target, reduction=self.reduction)\n"
          ]
        },
        {
          "output_type": "stream",
          "name": "stdout",
          "text": [
            "Epoch 5, total_loss: 129489432.0\n",
            "Epoch 10, total_loss: 124956840.0\n",
            "Epoch 15, total_loss: 116929456.0\n",
            "Epoch 20, total_loss: 106027416.0\n",
            "Epoch 25, total_loss: 93013232.0\n",
            "Epoch 30, total_loss: 78551928.0\n",
            "Epoch 35, total_loss: 63991448.0\n",
            "Epoch 40, total_loss: 50158924.0\n",
            "Epoch 45, total_loss: 37412156.0\n",
            "Epoch 50, total_loss: 26723344.0\n",
            "Epoch 55, total_loss: 18010996.0\n",
            "Epoch 60, total_loss: 11476670.0\n",
            "Epoch 65, total_loss: 6913184.0\n",
            "Epoch 70, total_loss: 3883216.0\n",
            "Epoch 75, total_loss: 2094263.375\n",
            "Epoch 80, total_loss: 1100077.875\n",
            "Epoch 85, total_loss: 590417.6875\n",
            "Epoch 90, total_loss: 344843.25\n",
            "Epoch 95, total_loss: 222370.3125\n",
            "Epoch 100, total_loss: 181825.546875\n"
          ]
        }
      ]
    },
    {
      "cell_type": "code",
      "source": [
        "# Test model\n",
        "model = model.eval()"
      ],
      "metadata": {
        "id": "km1F3TGL6sds"
      },
      "execution_count": 76,
      "outputs": []
    },
    {
      "cell_type": "code",
      "source": [
        "test_src = torch.Tensor(test_src).unsqueeze(-1)\n",
        "test_tgt = torch.Tensor(test_tgt).unsqueeze(-1).unsqueeze(-1)"
      ],
      "metadata": {
        "id": "GiSCdgVqTv7w"
      },
      "execution_count": 78,
      "outputs": []
    },
    {
      "cell_type": "code",
      "source": [
        "test_len = test_src.size()[0]\n",
        "print(test_len)"
      ],
      "metadata": {
        "colab": {
          "base_uri": "https://localhost:8080/"
        },
        "id": "SEZclZoqOsuJ",
        "outputId": "0e68b796-200b-4d1f-a704-ea259a676173"
      },
      "execution_count": 83,
      "outputs": [
        {
          "output_type": "stream",
          "name": "stdout",
          "text": [
            "37\n"
          ]
        }
      ]
    },
    {
      "cell_type": "code",
      "source": [
        "test_src0 = test_src[0].unsqueeze(0)\n",
        "test_tgt0 = test_tgt[0].unsqueeze(0)"
      ],
      "metadata": {
        "id": "_cdtvKmbX8G_"
      },
      "execution_count": 80,
      "outputs": []
    },
    {
      "cell_type": "code",
      "source": [
        "prediction = []\n",
        "for i in range(test_len):\n",
        "  if i != 0:\n",
        "    copy = torch.clone(test_src0)\n",
        "    test_src0[0, :-1, :] = copy[0, 1:, :]\n",
        "    test_src0[0, -1, :] = test_tgt0[0, -1, :]\n",
        "    test_tgt0[0, -1, :] = prediction[-1]\n",
        "  output = model(test_src0, test_tgt0)\n",
        "  output = model.out_linear(output) \n",
        "  prediction.append(float(output[0])) \n",
        "\n",
        "\n",
        "fig, ax = plt.subplots()\n",
        "plt.xticks(rotation=60)\n",
        "ax.plot(df.index[-test_len:], prediction, color='y', label='pred close')\n",
        "ax.plot(df.index[-test_len:], df['Close'][-test_len:], color='b', label='close')\n",
        "ax.set_title('000001.SS')\n",
        "ax.legend()\n",
        "plt.show()"
      ],
      "metadata": {
        "id": "9HCkMx0TsSyh"
      },
      "execution_count": null,
      "outputs": []
    },
    {
      "cell_type": "code",
      "source": [],
      "metadata": {
        "id": "ubpPbLAAObrS"
      },
      "execution_count": null,
      "outputs": []
    },
    {
      "cell_type": "code",
      "source": [],
      "metadata": {
        "id": "VK81-WcPvNtR"
      },
      "execution_count": null,
      "outputs": []
    }
  ]
}